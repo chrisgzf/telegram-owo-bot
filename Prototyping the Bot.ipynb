{
 "cells": [
  {
   "cell_type": "code",
   "execution_count": 2,
   "metadata": {},
   "outputs": [],
   "source": [
    "#import spacy\n",
    "import re\n",
    "import random"
   ]
  },
  {
   "cell_type": "code",
   "execution_count": 3,
   "metadata": {},
   "outputs": [
    {
     "name": "stdout",
     "output_type": "stream",
     "text": [
      "                 *Notices Bulge*\n",
      "__        ___           _    _        _   _     _      \n",
      "\\ \\      / / |__   __ _| |_ ( ) ___  | |_| |__ (_) ___ \n",
      " \\ \\ /\\ / /| '_ \\ / _\\`| __|// / __| | __| '_ \\| |/ __|\n",
      "  \\ V  V / | | | | (_| | |_    \\__ \\ | |_| | | | |\\__ \\\n",
      "   \\_/\\_/  |_| |_|\\__,_|\\__|   |___/ \\___|_| |_|_|/___/\n"
     ]
    }
   ],
   "source": [
    "print(\"\"\"                 *Notices Bulge*\n",
    "__        ___           _    _        _   _     _      \n",
    "\\ \\      / / |__   __ _| |_ ( ) ___  | |_| |__ (_) ___ \n",
    " \\ \\ /\\ / /| '_ \\ / _\\`| __|// / __| | __| '_ \\| |/ __|\n",
    "  \\ V  V / | | | | (_| | |_    \\__ \\ | |_| | | | |\\__ \\\\\n",
    "   \\_/\\_/  |_| |_|\\__,_|\\__|   |___/ \\___|_| |_|_|/___/\"\"\")"
   ]
  },
  {
   "cell_type": "code",
   "execution_count": 4,
   "metadata": {},
   "outputs": [
    {
     "data": {
      "text/plain": [
       "\"I enjoyed it much mowe than the pwemiewe. Thewe wewe things I of couwse didn't cawefow (the baby). *I wike the Kiwk awc and nyo nyot just because I wuv the viwwains.We awe swowwy stawting to get Wed, Wiz and even Kapwan backstowy. I am finye with itbeing a swow buwn! ^w^ I don't expect them to give me the answews aww the time. \""
      ]
     },
     "execution_count": 4,
     "metadata": {},
     "output_type": "execute_result"
    }
   ],
   "source": [
    "text = (\"I enjoyed it much more than the premiere. There were things I of course didn't care\"\n",
    "        \"for (the baby). *I like the Kirk arc and no not just because I love the villains.\"\n",
    "        \"We are slowly starting to get Red, Liz and even Kaplan backstory. I am fine with it\"\n",
    "        \"being a slow burn! I don't expect them to give me the answers all the time. \")\n",
    "\n",
    "# owoification code taken from\n",
    "# https://gist.github.com/jtvjan/1308479db62d6132d80b0180bcbff08f\n",
    "faces=[\"(・`ω´・)\",\";;w;;\",\"owo\",\"UwU\",\">w<\",\"^w^\"];\n",
    "\n",
    "def repl_1(m):\n",
    "    return f\"ny{m.group(1)}\"\n",
    "def repl_2(m):\n",
    "    return f\"Ny{m.group(1)}\"\n",
    "text = re.sub('(?:r|l)', \"w\", text)\n",
    "text = re.sub('(?:R|L)', \"W\", text)\n",
    "text = re.sub('n([aeiou])', repl_1, text);\n",
    "text = re.sub('N([aeiou])', repl_2, text);\n",
    "text = re.sub('N([AEIOU])', repl_2, text);\n",
    "text = re.sub('ove', \"uv\", text)\n",
    "text = re.sub('\\!+', f\"! {random.choice(faces)}\", text)\n",
    "\n",
    "text"
   ]
  },
  {
   "cell_type": "code",
   "execution_count": 7,
   "metadata": {},
   "outputs": [],
   "source": [
    "import logging\n",
    "import telegram\n",
    "import bot_secrets\n",
    "\n",
    "logging.basicConfig(level=logging.DEBUG,\n",
    "                    format='%(asctime)s - %(name)s - %(levelname)s - %(message)s')\n",
    "logger = logging.getLogger()\n",
    "logger.setLevel(logging.INFO)\n",
    "\n",
    "TOKEN = bot_secrets.TOKEN\n",
    "bot = telegram.Bot(token=TOKEN)"
   ]
  },
  {
   "cell_type": "code",
   "execution_count": 8,
   "metadata": {},
   "outputs": [
    {
     "data": {
      "text/plain": [
       "<telegram.user.User at 0x7f57a737fac8>"
      ]
     },
     "execution_count": 8,
     "metadata": {},
     "output_type": "execute_result"
    }
   ],
   "source": [
    "bot.get_me()"
   ]
  },
  {
   "cell_type": "code",
   "execution_count": 9,
   "metadata": {},
   "outputs": [
    {
     "data": {
      "text/plain": [
       "<queue.Queue at 0x7f578b09c860>"
      ]
     },
     "execution_count": 9,
     "metadata": {},
     "output_type": "execute_result"
    }
   ],
   "source": [
    "from telegram.ext import Updater\n",
    "updater = Updater(token=TOKEN, use_context=True)\n",
    "dispatcher = updater.dispatcher\n",
    "\n",
    "def start(update, context):\n",
    "    context.bot.send_message(chat_id=update.message.chat_id, text=\"I'm a bot, please talk to me!\")\n",
    "    \n",
    "from telegram.ext import CommandHandler\n",
    "start_handler = CommandHandler('start', start)\n",
    "dispatcher.add_handler(start_handler)\n",
    "\n",
    "def echo(update, context):\n",
    "    context.bot.send_message(chat_id=update.message.chat_id, text=update.message.text)\n",
    "\n",
    "from telegram.ext import MessageHandler, Filters\n",
    "echo_handler = MessageHandler(Filters.text, echo)\n",
    "dispatcher.add_handler(echo_handler)\n",
    "\n",
    "updater.start_polling()"
   ]
  },
  {
   "cell_type": "code",
   "execution_count": null,
   "metadata": {},
   "outputs": [],
   "source": []
  }
 ],
 "metadata": {
  "kernelspec": {
   "display_name": "Python 3",
   "language": "python",
   "name": "python3"
  },
  "language_info": {
   "codemirror_mode": {
    "name": "ipython",
    "version": 3
   },
   "file_extension": ".py",
   "mimetype": "text/x-python",
   "name": "python",
   "nbconvert_exporter": "python",
   "pygments_lexer": "ipython3",
   "version": "3.6.8"
  }
 },
 "nbformat": 4,
 "nbformat_minor": 2
}
